{
 "cells": [
  {
   "cell_type": "code",
   "execution_count": 1,
   "id": "228b89ea-10f7-4ea9-9b01-45e664ae861d",
   "metadata": {},
   "outputs": [
    {
     "ename": "ModuleNotFoundError",
     "evalue": "No module named 'geopandas'",
     "output_type": "error",
     "traceback": [
      "\u001b[1;31m---------------------------------------------------------------------------\u001b[0m",
      "\u001b[1;31mModuleNotFoundError\u001b[0m                       Traceback (most recent call last)",
      "Cell \u001b[1;32mIn[1], line 2\u001b[0m\n\u001b[0;32m      1\u001b[0m \u001b[38;5;28;01mimport\u001b[39;00m \u001b[38;5;21;01mpygmt\u001b[39;00m\n\u001b[1;32m----> 2\u001b[0m \u001b[38;5;28;01mimport\u001b[39;00m \u001b[38;5;21;01mgeopandas\u001b[39;00m \u001b[38;5;28;01mas\u001b[39;00m \u001b[38;5;21;01mgpd\u001b[39;00m\n",
      "\u001b[1;31mModuleNotFoundError\u001b[0m: No module named 'geopandas'"
     ]
    }
   ],
   "source": [
    "import pygmt\n",
    "import geopandas as gpd"
   ]
  },
  {
   "cell_type": "code",
   "execution_count": 3,
   "id": "deda545c-1c5c-4dbc-8cea-99cd70f61220",
   "metadata": {},
   "outputs": [
    {
     "ename": "NameError",
     "evalue": "name 'gpd' is not defined",
     "output_type": "error",
     "traceback": [
      "\u001b[1;31m---------------------------------------------------------------------------\u001b[0m",
      "\u001b[1;31mNameError\u001b[0m                                 Traceback (most recent call last)",
      "Cell \u001b[1;32mIn[3], line 1\u001b[0m\n\u001b[1;32m----> 1\u001b[0m gdf \u001b[38;5;241m=\u001b[39m \u001b[43mgpd\u001b[49m\u001b[38;5;241m.\u001b[39mread_file(\u001b[38;5;124m'\u001b[39m\u001b[38;5;124mhttps://geodacenter.github.io/data-and-lab/data/airbnb.zip\u001b[39m\u001b[38;5;124m'\u001b[39m)\n\u001b[0;32m      2\u001b[0m fig \u001b[38;5;241m=\u001b[39m pygmt\u001b[38;5;241m.\u001b[39mFigure()\n\u001b[0;32m      4\u001b[0m fig\u001b[38;5;241m.\u001b[39mbasemap(\n\u001b[0;32m      5\u001b[0m     region \u001b[38;5;241m=\u001b[39m gdf\u001b[38;5;241m.\u001b[39mtotal_bounds[[\u001b[38;5;241m0\u001b[39m, \u001b[38;5;241m2\u001b[39m, \u001b[38;5;241m1\u001b[39m, \u001b[38;5;241m3\u001b[39m]],\n\u001b[0;32m      6\u001b[0m     projection \u001b[38;5;241m=\u001b[39m \u001b[38;5;124m'\u001b[39m\u001b[38;5;124mM6c\u001b[39m\u001b[38;5;124m'\u001b[39m,\n\u001b[0;32m      7\u001b[0m     frame \u001b[38;5;241m=\u001b[39m \u001b[38;5;124m'\u001b[39m\u001b[38;5;124m+tPopulation of Chicago\u001b[39m\u001b[38;5;124m'\u001b[39m,\n\u001b[0;32m      8\u001b[0m     \n\u001b[0;32m      9\u001b[0m )\n",
      "\u001b[1;31mNameError\u001b[0m: name 'gpd' is not defined"
     ]
    }
   ],
   "source": [
    "gdf = gpd.read_file('https://geodacenter.github.io/data-and-lab/data/airbnb.zip')\n",
    "fig = pygmt.Figure()\n",
    "\n",
    "fig.basemap(\n",
    "    region = gdf.total_bounds[[0, 2, 1, 3]],\n",
    "    projection = 'M6c',\n",
    "    frame = '+tPopulation of Chicago',\n",
    "    \n",
    ")\n",
    "\n",
    "pygmt.makecpt(\n",
    "    cmap = 'action',\n",
    "    series = [gdf['population'].min(), gdf['population'].max(), 10],\n",
    "    continuous = True,\n",
    "    reverse = True, \n",
    ")\n",
    "\n",
    "fig.plot(\n",
    "\n",
    "    data = gdf,\n",
    "    pen = '0.3p, gray10',\n",
    "    fill = '+z',\n",
    "    cmap = True,\n",
    "    aspatial = \"Z=population\",\n",
    ")\n",
    "\n",
    "fig.colorbar(frame = 'x+lPopulation', position = 'jML+o-0.5c+w3.5c/0.2c')\n",
    "\n",
    "fig.show()"
   ]
  },
  {
   "cell_type": "code",
   "execution_count": null,
   "id": "e2201d18-ba6c-497e-9023-1ea9fe5e2218",
   "metadata": {},
   "outputs": [],
   "source": []
  }
 ],
 "metadata": {
  "kernelspec": {
   "display_name": "Python 3 (ipykernel)",
   "language": "python",
   "name": "python3"
  },
  "language_info": {
   "codemirror_mode": {
    "name": "ipython",
    "version": 3
   },
   "file_extension": ".py",
   "mimetype": "text/x-python",
   "name": "python",
   "nbconvert_exporter": "python",
   "pygments_lexer": "ipython3",
   "version": "3.12.1"
  }
 },
 "nbformat": 4,
 "nbformat_minor": 5
}
