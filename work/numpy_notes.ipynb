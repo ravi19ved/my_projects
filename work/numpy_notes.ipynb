{
 "cells": [
  {
   "cell_type": "code",
   "execution_count": 5,
   "id": "f05e0c31-b714-4211-bd4a-854b2e7fc615",
   "metadata": {},
   "outputs": [],
   "source": [
    "import pygmt\n",
    "import pandas as pd\n",
    "import numpy as np\n",
    "#pygmt.show_versions()"
   ]
  },
  {
   "cell_type": "code",
   "execution_count": 40,
   "id": "11942fd6-d186-4788-b20b-68e815ff74f1",
   "metadata": {},
   "outputs": [],
   "source": [
    "arr0d = np.array(42)\n",
    "arr1d = np.array([1,2,3,4,5,6])\n",
    "arr2d = np.array([[1,2],[3,4],[5,6]])\n",
    "arr3d = np.array([[[1,2],[3,4],[11,12]],[[5,6],[7,8],[9,10]]])"
   ]
  },
  {
   "cell_type": "code",
   "execution_count": 41,
   "id": "6e21793e-9432-466a-90a8-803065c2e468",
   "metadata": {},
   "outputs": [
    {
     "name": "stdout",
     "output_type": "stream",
     "text": [
      "()\n",
      "(6,)\n",
      "(3, 2)\n",
      "(2, 3, 2)\n",
      "1\n",
      "6\n",
      "6\n",
      "12\n",
      "0\n",
      "1\n",
      "2\n",
      "3\n",
      "<class 'numpy.ndarray'>\n",
      "<class 'numpy.ndarray'>\n",
      "<class 'numpy.ndarray'>\n",
      "<class 'numpy.ndarray'>\n"
     ]
    }
   ],
   "source": [
    "print(arr0d.shape)\n",
    "print(arr1d.shape)\n",
    "print(arr2d.shape)\n",
    "print(arr3d.shape)\n",
    "\n",
    "print(arr0d.size)\n",
    "print(arr1d.size)\n",
    "print(arr2d.size)\n",
    "print(arr3d.size)\n",
    "\n",
    "print(arr0d.ndim)\n",
    "print(arr1d.ndim)\n",
    "print(arr2d.ndim)\n",
    "print(arr3d.ndim)\n",
    "\n",
    "print(type(arr0d))\n",
    "print(type(arr1d))\n",
    "print(type(arr2d))\n",
    "print(type(arr3d))"
   ]
  },
  {
   "cell_type": "code",
   "execution_count": 36,
   "id": "7018d6f3-4753-4993-83b0-b31bf77fa367",
   "metadata": {},
   "outputs": [
    {
     "data": {
      "text/plain": [
       "(2, 3, 2)"
      ]
     },
     "execution_count": 36,
     "metadata": {},
     "output_type": "execute_result"
    }
   ],
   "source": [
    "arr3d.shape"
   ]
  },
  {
   "cell_type": "code",
   "execution_count": 37,
   "id": "12099d05-9e27-44af-b4be-3474cb0e686a",
   "metadata": {},
   "outputs": [
    {
     "name": "stdout",
     "output_type": "stream",
     "text": [
      "1.26.4\n"
     ]
    }
   ],
   "source": [
    "print(np.__version__)"
   ]
  },
  {
   "cell_type": "code",
   "execution_count": 39,
   "id": "96fa4aa3-a63d-4e1c-bdc4-0340927985ab",
   "metadata": {},
   "outputs": [
    {
     "name": "stdout",
     "output_type": "stream",
     "text": [
      "[1 2 3 4 5]\n"
     ]
    }
   ],
   "source": [
    "samp_ndarray = np.array((1,2,3,4,5))\n",
    "print(samp_ndarray)"
   ]
  },
  {
   "cell_type": "code",
   "execution_count": 89,
   "id": "f7b921a6-ad6f-467a-a29e-8b9cb3492352",
   "metadata": {},
   "outputs": [
    {
     "name": "stdout",
     "output_type": "stream",
     "text": [
      "[[[[1 2 3 4 5]]]]\n",
      "number of dimensions: 4\n"
     ]
    }
   ],
   "source": [
    "a = np.array([1,2,3,4,5], ndmin = 4)\n",
    "print(a)\n",
    "print('number of dimensions:',a.ndim)"
   ]
  },
  {
   "cell_type": "code",
   "execution_count": 60,
   "id": "0e18e0e0-cef4-483d-bf1f-4c51281a62f0",
   "metadata": {},
   "outputs": [
    {
     "name": "stdout",
     "output_type": "stream",
     "text": [
      "7\n"
     ]
    }
   ],
   "source": [
    "print(arr1d[2]+arr1d[3])"
   ]
  },
  {
   "cell_type": "code",
   "execution_count": 73,
   "id": "20b972c9-03ec-4126-ad06-6a6807fd2ca7",
   "metadata": {},
   "outputs": [
    {
     "name": "stdout",
     "output_type": "stream",
     "text": [
      "2nd element on 1st row :  (3, 2) 4\n"
     ]
    }
   ],
   "source": [
    "print('2nd element on 1st row : ',arr2d.shape, arr2d[1, 1])"
   ]
  },
  {
   "cell_type": "code",
   "execution_count": 74,
   "id": "fea48c7f-2d87-4909-9ac7-91286f06bd4f",
   "metadata": {},
   "outputs": [
    {
     "name": "stdout",
     "output_type": "stream",
     "text": [
      "last element of 2nd dim in 2d array 2\n"
     ]
    }
   ],
   "source": [
    "print('last element of 2nd dim in 2d array', arr2d[0,-1])"
   ]
  },
  {
   "cell_type": "code",
   "execution_count": 84,
   "id": "2ea67c6e-325d-4c8c-9859-6668e905e3b1",
   "metadata": {},
   "outputs": [
    {
     "name": "stdout",
     "output_type": "stream",
     "text": [
      "[1 3 5]\n"
     ]
    }
   ],
   "source": [
    "print(arr1d[::2])"
   ]
  },
  {
   "cell_type": "code",
   "execution_count": 90,
   "id": "965c9869-b007-454b-8711-a734053becbc",
   "metadata": {},
   "outputs": [
    {
     "name": "stdout",
     "output_type": "stream",
     "text": [
      "class:  ndarray\n",
      "shape:  (1, 1, 1, 5)\n",
      "strides:  (20, 20, 20, 4)\n",
      "itemsize:  4\n",
      "aligned:  True\n",
      "contiguous:  True\n",
      "fortran:  True\n",
      "data pointer: 0x231377c4ef0\n",
      "byteorder:  little\n",
      "byteswap:  False\n",
      "type: int32\n"
     ]
    }
   ],
   "source": [
    "np.info(a)"
   ]
  },
  {
   "cell_type": "code",
   "execution_count": 93,
   "id": "37f417ab-16c3-48ed-b90f-1814cd8e6a7f",
   "metadata": {},
   "outputs": [
    {
     "name": "stdout",
     "output_type": "stream",
     "text": [
      "class:  ndarray\n",
      "shape:  (3, 2)\n",
      "strides:  (8, 4)\n",
      "itemsize:  4\n",
      "aligned:  True\n",
      "contiguous:  True\n",
      "fortran:  False\n",
      "data pointer: 0x231377c4d70\n",
      "byteorder:  little\n",
      "byteswap:  False\n",
      "type: int32\n"
     ]
    }
   ],
   "source": [
    "np.info(arr2d)"
   ]
  },
  {
   "cell_type": "code",
   "execution_count": 104,
   "id": "46a90d84-3d6d-4eca-8ac9-6e114e05005c",
   "metadata": {},
   "outputs": [
    {
     "data": {
      "text/plain": [
       "2"
      ]
     },
     "execution_count": 104,
     "metadata": {},
     "output_type": "execute_result"
    }
   ],
   "source": [
    "rows = arr3d.shape[0]\n",
    "rows"
   ]
  },
  {
   "cell_type": "code",
   "execution_count": 106,
   "id": "e8979111-6d79-4f59-b350-6438feb343c9",
   "metadata": {},
   "outputs": [
    {
     "name": "stdout",
     "output_type": "stream",
     "text": [
      "[7 8 9]\n",
      "[3 8]\n"
     ]
    }
   ],
   "source": [
    "arr = np.array([[1, 2, 3, 4, 5], [6, 7, 8, 9, 10]])\n",
    "\n",
    "print(arr[1, 1:4])\n",
    "print(arr[0:2, 2])"
   ]
  },
  {
   "cell_type": "code",
   "execution_count": 109,
   "id": "0d05c4aa-1785-4389-97cb-4a545ec3453c",
   "metadata": {},
   "outputs": [
    {
     "name": "stdout",
     "output_type": "stream",
     "text": [
      "[2 3 4 5]\n"
     ]
    }
   ],
   "source": [
    "arr = np.array([1, 2, 3, 4, 5, 6, 7])\n",
    "\n",
    "print(arr[1:5])"
   ]
  },
  {
   "cell_type": "code",
   "execution_count": 111,
   "id": "b4c537ff-7fdd-4120-85c9-d4baf89c281e",
   "metadata": {},
   "outputs": [
    {
     "name": "stdout",
     "output_type": "stream",
     "text": [
      "[5 6 7]\n",
      "[1 2 3 4]\n"
     ]
    }
   ],
   "source": [
    "print(arr[4:])\n",
    "print(arr[:4])"
   ]
  },
  {
   "cell_type": "code",
   "execution_count": 113,
   "id": "79880a95-2d7a-4b09-baaf-6529c6622cec",
   "metadata": {},
   "outputs": [
    {
     "name": "stdout",
     "output_type": "stream",
     "text": [
      "[5 6 7]\n"
     ]
    }
   ],
   "source": [
    "print(arr[-3:])"
   ]
  },
  {
   "cell_type": "code",
   "execution_count": 116,
   "id": "33630af2-8184-4527-911e-736a9da11fc4",
   "metadata": {},
   "outputs": [
    {
     "name": "stdout",
     "output_type": "stream",
     "text": [
      "[31  2  3  4  5]\n",
      "[31  2  3  4  5]\n"
     ]
    }
   ],
   "source": [
    "import numpy as np\n",
    "\n",
    "arr = np.array([1, 2, 3, 4, 5])\n",
    "x = arr.view()\n",
    "x[0] = 31\n",
    "\n",
    "print(arr)\n",
    "print(x)"
   ]
  },
  {
   "cell_type": "code",
   "execution_count": 117,
   "id": "310a04c5-763d-4600-ae9a-d6f5eb825c95",
   "metadata": {},
   "outputs": [
    {
     "name": "stdout",
     "output_type": "stream",
     "text": [
      "None\n",
      "[1 2 3 4 5]\n"
     ]
    }
   ],
   "source": [
    "import numpy as np\n",
    "\n",
    "arr = np.array([1,2,3,4,5])\n",
    "\n",
    "x = arr.copy()\n",
    "y = arr.view()\n",
    "\n",
    "print(x.base)\n",
    "print(y.base)"
   ]
  },
  {
   "cell_type": "code",
   "execution_count": null,
   "id": "2bf6f137-b000-4116-94d6-b491e2e57397",
   "metadata": {},
   "outputs": [],
   "source": []
  }
 ],
 "metadata": {
  "kernelspec": {
   "display_name": "Python 3 (ipykernel)",
   "language": "python",
   "name": "python3"
  },
  "language_info": {
   "codemirror_mode": {
    "name": "ipython",
    "version": 3
   },
   "file_extension": ".py",
   "mimetype": "text/x-python",
   "name": "python",
   "nbconvert_exporter": "python",
   "pygments_lexer": "ipython3",
   "version": "3.12.1"
  }
 },
 "nbformat": 4,
 "nbformat_minor": 5
}
