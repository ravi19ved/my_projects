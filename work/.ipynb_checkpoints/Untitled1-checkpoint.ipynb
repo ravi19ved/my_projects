{
 "cells": [
  {
   "cell_type": "code",
   "execution_count": 3,
   "id": "b7df60ba-55b7-40a3-841d-561c48b0868a",
   "metadata": {},
   "outputs": [
    {
     "name": "stdout",
     "output_type": "stream",
     "text": [
      "0    112 days\n",
      "1    121 days\n",
      "2    110 days\n",
      "3     43 days\n",
      "4    213 days\n",
      "5    182 days\n",
      "6    245 days\n",
      "7      8 days\n",
      "8    248 days\n",
      "9    248 days\n",
      "10   336 days\n",
      "Name: Operational_Days, dtype: timedelta64[ns]\n",
      "0     112\n",
      "1     121\n",
      "2     110\n",
      "3      43\n",
      "4     213\n",
      "5     182\n",
      "6     245\n",
      "7       8\n",
      "8     248\n",
      "9     248\n",
      "10    336\n",
      "Name: Operational_Days, dtype: int64\n"
     ]
    },
    {
     "data": {
      "text/plain": [
       "\"\\n# Create the bar plot\\nplt.figure(figsize=(12, 8))\\nfor glider in df['Glider'].unique():\\n    glider_df = df[df['Glider'] == glider]\\n    plt.barh(glider_df['Glider'] + ' (' + glider_df['Deployment_Date'].astype(str) + ')',\\n             glider_df['Operational_Days'],\\n             color='blue')\\n\\nplt.xlabel('Operational Days')\\nplt.ylabel('Gliders')\\nplt.title('Operational Days of Slocum Gliders')\\nplt.grid(axis='x', linestyle='--', alpha=0.7)\\nplt.tight_layout()\\n\\nplt.show()\\n\""
      ]
     },
     "execution_count": 3,
     "metadata": {},
     "output_type": "execute_result"
    }
   ],
   "source": [
    "import matplotlib.pyplot as plt\n",
    "import pandas as pd\n",
    "from datetime import datetime\n",
    "\n",
    "# Provided data\n",
    "data = {\n",
    "    'Glider': ['890', '890', '891', '891', '1095', '1096', '1127', '1127', '1128', '1130', '1131'],\n",
    "    'Deployment_Date': ['2021-01-26', '2023-03-08', '2021-01-30', '2023-03-08', '2023-09-23', '2023-09-23', '2023-10-27', '2024-07-02', '2024-04-27', '2024-04-27', '2024-01-30'],\n",
    "    'Retrieval_Date':   ['2021-05-18', '2023-07-07', '2021-05-20', '2023-04-20', '2024-04-23', '2024-03-23', '2024-06-28', '2024-07-10', '2024-12-31', '2024-12-31', '2024-12-31']\n",
    "}\n",
    "\n",
    "# Convert to DataFrame\n",
    "df = pd.DataFrame(data)\n",
    "df['Deployment_Date'] = pd.to_datetime(df['Deployment_Date'])\n",
    "df['Retrieval_Date'] = pd.to_datetime(df['Retrieval_Date'])\n",
    "\n",
    "# Calculate operational days\n",
    "\n",
    "df['Operational_Days'] = (df['Retrieval_Date'] - df['Deployment_Date'])\n",
    "print(df['Operational_Days'])\n",
    "df['Operational_Days'] = (df['Retrieval_Date'] - df['Deployment_Date']).dt.days\n",
    "print(df['Operational_Days'])\n",
    "'''\n",
    "# Create the bar plot\n",
    "plt.figure(figsize=(12, 8))\n",
    "for glider in df['Glider'].unique():\n",
    "    glider_df = df[df['Glider'] == glider]\n",
    "    plt.barh(glider_df['Glider'] + ' (' + glider_df['Deployment_Date'].astype(str) + ')',\n",
    "             glider_df['Operational_Days'],\n",
    "             color='blue')\n",
    "\n",
    "plt.xlabel('Operational Days')\n",
    "plt.ylabel('Gliders')\n",
    "plt.title('Operational Days of Slocum Gliders')\n",
    "plt.grid(axis='x', linestyle='--', alpha=0.7)\n",
    "plt.tight_layout()\n",
    "\n",
    "plt.show()\n",
    "'''"
   ]
  },
  {
   "cell_type": "code",
   "execution_count": null,
   "id": "418f8397-bdf7-4986-8ab5-0750100fbe9c",
   "metadata": {},
   "outputs": [],
   "source": []
  }
 ],
 "metadata": {
  "kernelspec": {
   "display_name": "Python 3 (ipykernel)",
   "language": "python",
   "name": "python3"
  },
  "language_info": {
   "codemirror_mode": {
    "name": "ipython",
    "version": 3
   },
   "file_extension": ".py",
   "mimetype": "text/x-python",
   "name": "python",
   "nbconvert_exporter": "python",
   "pygments_lexer": "ipython3",
   "version": "3.12.1"
  }
 },
 "nbformat": 4,
 "nbformat_minor": 5
}
