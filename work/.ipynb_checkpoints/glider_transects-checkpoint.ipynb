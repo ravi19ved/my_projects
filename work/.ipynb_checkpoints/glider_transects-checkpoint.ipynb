{
 "cells": [
  {
   "cell_type": "markdown",
   "id": "655ddadc-8ab2-4f37-be0d-d2da36e0adb4",
   "metadata": {},
   "source": [
    "##  This is the working copy of the code used for plotting glider transects on a map using pygmt. \n",
    "\n",
    "1. Here the glider transect files (csv files) are given as a list of csv files. "
   ]
  },
  {
   "cell_type": "code",
   "execution_count": 1,
   "id": "b5fe6a2a-d4e7-4dfa-be44-55a21eb29f37",
   "metadata": {},
   "outputs": [],
   "source": [
    "# Library Imports\n",
    "\n",
    "import pygmt\n",
    "import pandas as pd\n",
    "import numpy as np\n"
   ]
  },
  {
   "cell_type": "code",
   "execution_count": null,
   "id": "8a3710b6-a646-44e0-b51f-fd345041091b",
   "metadata": {},
   "outputs": [],
   "source": [
    "# Loading Glider Transects Data from CSV files\n",
    "\n",
    "'''\n",
    "mission_files = [f'mission_{i}' for i in range(1,11)]\n",
    "for i, mission_name in enumerate(mission_files, start=1):\n",
    "    transect_data = pd.DataFrame({\n",
    "        \"longitude\":np.random.uniform(48, 105, 50),\n",
    "        \"latitude\": np.random.uniform(-20, 28, 50)\n",
    "    })\n",
    "    transect_data.to_csv(f\"glider_transect_{mission_name}.csv\", index = False)\n",
    "'''\n",
    "glider_transect_files = [\n",
    "    \"track_890.csv\",\n",
    "    \"track_890dep.csv\",\n",
    "    \"track_891.csv\",\n",
    "    \"track_891dep.csv\",\n",
    "    \"track_1096.csv\",\n",
    "    \"track_1127.csv\",\n",
    "    \"track_1128.csv\",\n",
    "    \"track_1130.csv\",\n",
    "    \"track_1131.csv\"\n",
    "]\n",
    "\n",
    "# Define a list of colors for glider transects\n",
    "glider_colors = [\n",
    "    \"red\", \"green\", \"blue\", \"purple\", \"orange\", \"cyan\", \"magenta\", \"yellow\", \"brown\", \"pink\"\n",
    "]\n",
    "# Map Initialization\n",
    "\n",
    "fig = pygmt.Figure()\n",
    "fig.basemap(region=[46, 110, -20, 28], projection=\"M6i\", frame=\"af\")\n",
    "fig.coast(land='lightgray', water='skyblue', borders=[1,2],shorelines=\"1/thinner\")\n",
    "\n",
    "# Add map title\n",
    "fig.text(text=\"Glider Transects over Indian Ocean Region (2021-25)\", position=\"TC\", font=\"14p,Helvetica-Bold,black\")\n",
    "\n",
    "# Add region labels\n",
    "fig.text(text=\"Bay of Bengal\", x=85, y=15, font=\"12p,Helvetica-Bold,blue\")\n",
    "fig.text(text=\"Arabian Sea\", x=65, y=15, font=\"12p,Helvetica-Bold,blue\")\n",
    "\n",
    "# Plot Glider Transects\n",
    "for track_file, color in zip(glider_transect_files, glider_colors):\n",
    "    mission_name = track_file.split(\"_\")[-1].replace(\".csv\", \"\") \n",
    "    transect_data=pd.read_csv(track_file)\n",
    "   \n",
    "    fig.plot(\n",
    "        x=transect_data[\"Longitude\"],\n",
    "        y=transect_data[\"Latitude\"],\n",
    "        pen=f\"1p,{color}\", label=mission_name\n",
    "    )\n",
    "\n",
    "# Add Legend\n",
    "fig.legend(position = \"JBR+jBR+o0.5c\", box='1p, black, gray')\n",
    "#fig.legend(position=\"JBR+jBR+o0.5c\", box=True)\n",
    "\n",
    "fig.savefig(\"glider_transects_io_2.jpeg\")\n",
    "\n",
    "# Show Map\n",
    "fig.show()"
   ]
  }
 ],
 "metadata": {
  "kernelspec": {
   "display_name": "Python 3 (ipykernel)",
   "language": "python",
   "name": "python3"
  },
  "language_info": {
   "codemirror_mode": {
    "name": "ipython",
    "version": 3
   },
   "file_extension": ".py",
   "mimetype": "text/x-python",
   "name": "python",
   "nbconvert_exporter": "python",
   "pygments_lexer": "ipython3",
   "version": "3.13.3"
  }
 },
 "nbformat": 4,
 "nbformat_minor": 5
}
