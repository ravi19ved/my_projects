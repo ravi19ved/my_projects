{
 "cells": [
  {
   "cell_type": "code",
   "execution_count": 1,
   "id": "73f0e1fd-ebec-40e2-94ca-9a25ec6b89c9",
   "metadata": {},
   "outputs": [],
   "source": [
    "def add(a,b):\n",
    "    res = a+b\n",
    "    return res\n"
   ]
  },
  {
   "cell_type": "code",
   "execution_count": 2,
   "id": "d11d25f6-3822-431e-a0ad-97f7b06e2785",
   "metadata": {},
   "outputs": [
    {
     "name": "stdout",
     "output_type": "stream",
     "text": [
      "5\n"
     ]
    }
   ],
   "source": [
    "a = 2\n",
    "b = 3\n",
    "result = add(a,b)\n",
    "print(result)"
   ]
  },
  {
   "cell_type": "code",
   "execution_count": null,
   "id": "11db54b1-67ea-4247-836e-f3d6a80e2da7",
   "metadata": {},
   "outputs": [],
   "source": [
    "import pandas as pd\n",
    "import pygmt\n",
    "\n",
    "# Load sample iris data\n",
    "df = pd.read_csv(\"https://github.com/mwaskom/seaborn-data/raw/master/iris.csv\")\n",
    "\n",
    "# Convert 'species' column to categorical dtype\n",
    "# By default, pandas sorts the individual categories in an alphabetical order.\n",
    "# For a non-alphabetical order, you have to manually adjust the list of\n",
    "# categories. For handling and manipulating categorical data in pandas,\n",
    "# have a look at:\n",
    "# https://pandas.pydata.org/docs/user_guide/categorical.html\n",
    "df.species = df.species.astype(dtype=\"category\")\n",
    "\n",
    "# Make a list of the individual categories of the 'species' column\n",
    "# ['setosa', 'versicolor', 'virginica']\n",
    "# They are (corresponding to the categorical number code) by default in\n",
    "# alphabetical order and later used for the colorbar labels\n",
    "labels = list(df.species.cat.categories)\n",
    "\n",
    "# Use pygmt.info to get region bounds (xmin, xmax, ymin, ymax, zmin, zmax)\n",
    "# The below example will return a numpy array [0.0, 3.0, 4.0, 8.0, 1.0, 7.0]\n",
    "region = pygmt.info(\n",
    "    data=df[[\"petal_width\", \"sepal_length\", \"petal_length\"]],  # x, y, z columns\n",
    "    per_column=True,  # Report the min/max values per column as a numpy array\n",
    "    # Round the min/max values of the first three columns to the nearest\n",
    "    # multiple of 1, 2 and 0.5, respectively\n",
    "    spacing=(1, 2, 0.5),\n",
    ")\n",
    "\n",
    "# Make a 3-D scatter plot, coloring each of the 3 species differently\n",
    "fig = pygmt.Figure()\n",
    "\n",
    "# Define a colormap for three categories, define the range of the\n",
    "# new discrete CPT using series=(lowest_value, highest_value, interval),\n",
    "# use color_model=\"+csetosa,versicolor,virginica\" to write the discrete color\n",
    "# palette \"cubhelix\" in categorical format and add the species names as\n",
    "# annotations for the colorbar\n",
    "pygmt.makecpt(\n",
    "    cmap=\"cubhelix\",\n",
    "    # Use the minimum and maximum of the categorical number code\n",
    "    # to set the lowest_value and the highest_value of the CPT\n",
    "    series=(df.species.cat.codes.min(), df.species.cat.codes.max(), 1),\n",
    "    # Convert ['setosa', 'versicolor', 'virginica'] to\n",
    "    # 'setosa,versicolor,virginica'\n",
    "    color_model=\"+c\" + \",\".join(labels),\n",
    ")\n",
    "\n",
    "fig.plot3d(\n",
    "    # Use petal width, sepal length, and petal length as x, y, and z\n",
    "    # data input, respectively\n",
    "    x=df.petal_width,\n",
    "    y=df.sepal_length,\n",
    "    z=df.petal_length,\n",
    "    # Vary each symbol size according to the sepal width, scaled by 0.1\n",
    "    size=0.1 * df.sepal_width,\n",
    "    # Use 3-D cubes (\"u\") as symbols with size in centimeters (\"c\")\n",
    "    style=\"uc\",\n",
    "    # Points colored by categorical number code (refers to the species)\n",
    "    fill=df.species.cat.codes.astype(int),\n",
    "    # Use colormap created by makecpt\n",
    "    cmap=True,\n",
    "    # Set map dimensions (xmin, xmax, ymin, ymax, zmin, zmax)\n",
    "    region=region,\n",
    "    # Set frame parameters\n",
    "    frame=[\n",
    "        \"WsNeZ3+tIris flower data set\",  # z axis label positioned on 3rd corner, add title\n",
    "        \"xafg+lPetal Width (cm)\",\n",
    "        \"yafg+lSepal Length (cm)\",\n",
    "        \"zafg+lPetal Length (cm)\",\n",
    "    ],\n",
    "    # Set perspective to azimuth NorthWest (315°), at elevation 25°\n",
    "    perspective=[315, 25],\n",
    "    # Vertical exaggeration factor\n",
    "    zscale=1.5,\n",
    ")\n",
    "\n",
    "# Shift the plot origin in x direction temporarily and add the colorbar\n",
    "with fig.shift_origin(xshift=3.1):\n",
    "    fig.colorbar()\n",
    "\n",
    "fig.show()"
   ]
  }
 ],
 "metadata": {
  "kernelspec": {
   "display_name": "pygmt",
   "language": "python",
   "name": "python3"
  },
  "language_info": {
   "codemirror_mode": {
    "name": "ipython",
    "version": 3
   },
   "file_extension": ".py",
   "mimetype": "text/x-python",
   "name": "python",
   "nbconvert_exporter": "python",
   "pygments_lexer": "ipython3",
   "version": "3.13.3"
  }
 },
 "nbformat": 4,
 "nbformat_minor": 5
}
