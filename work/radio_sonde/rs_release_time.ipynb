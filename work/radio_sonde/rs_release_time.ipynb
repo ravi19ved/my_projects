{
 "cells": [
  {
   "cell_type": "code",
   "execution_count": null,
   "id": "96bee7de",
   "metadata": {},
   "outputs": [],
   "source": [
    "import pandas as pd\n",
    "import matplotlib.pyplot as plt\n",
    "import matplotlib.dates as mdates\n",
    "\n",
    "# Load the data\n",
    "df = pd.read_csv('radiosonde_launches.csv', parse_dates=['DateTime'])\n",
    "\n",
    "# Extract date and time for plotting\n",
    "df['Date'] = df['DateTime'].dt.date\n",
    "df['Time'] = df['DateTime'].dt.time\n",
    "df['TimeOnly'] = df['DateTime'].dt.hour + df['DateTime'].dt.minute / 60.0  # Convert to float hours\n",
    "\n",
    "# Separate by sensor type\n",
    "vaisala = df[df['Sensor'] == 'Vaisala RS41-SG']\n",
    "azista = df[df['Sensor'] == 'Azista ATMS-3710']\n",
    "\n",
    "# Create the plot\n",
    "fig, ax = plt.subplots(figsize=(12, 6))\n",
    "\n",
    "# Plot Vaisala in green\n",
    "ax.scatter(vaisala['DateTime'], vaisala['TimeOnly'], color='green', label='Vaisala RS41-SG', s=30)\n",
    "\n",
    "# Plot Azista in yellow\n",
    "ax.scatter(azista['DateTime'], azista['TimeOnly'], color='yellow', label='Azista ATMS-3710', s=30)\n",
    "\n",
    "# Formatting\n",
    "ax.xaxis.set_major_formatter(mdates.DateFormatter('%Y-%m-%d'))\n",
    "ax.xaxis.set_major_locator(mdates.DayLocator(interval=2))\n",
    "plt.xticks(rotation=45)\n",
    "ax.set_ylabel('Time of Day (Hours)')\n",
    "ax.set_xlabel('Date of Launch')\n",
    "ax.set_title('Radiosonde Launch Times: EKAMSAT Cruise (June–July 2024)')\n",
    "ax.set_ylim(0, 24)\n",
    "ax.grid(True, linestyle='--', alpha=0.5)\n",
    "plt.legend()\n",
    "plt.tight_layout()\n",
    "\n",
    "# Save and show\n",
    "plt.savefig('radiosonde_launch_times.png', dpi=300)\n",
    "plt.show()\n"
   ]
  }
 ],
 "metadata": {
  "kernelspec": {
   "display_name": "geo_env",
   "language": "python",
   "name": "python3"
  },
  "language_info": {
   "name": "python",
   "version": "3.13.2"
  }
 },
 "nbformat": 4,
 "nbformat_minor": 5
}
