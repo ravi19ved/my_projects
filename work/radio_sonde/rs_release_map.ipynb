{
 "cells": [
  {
   "cell_type": "code",
   "execution_count": null,
   "id": "3426eaba",
   "metadata": {},
   "outputs": [],
   "source": [
    "# Library Imports \n",
    "\n",
    "import pandas as pd\n",
    "import matplotlib.pyplot as plt\n",
    "import cartopy.crs as ccrs\n",
    "import cartopy.feature as cfeature\n"
   ]
  },
  {
   "cell_type": "code",
   "execution_count": null,
   "id": "3590c37b",
   "metadata": {},
   "outputs": [],
   "source": [
    "# Extract data from data path/file path and convert it into dataframe\n"
   ]
  },
  {
   "cell_type": "code",
   "execution_count": null,
   "id": "1bebda18",
   "metadata": {},
   "outputs": [],
   "source": [
    "\n",
    "# Load radiosonde data\n",
    "df = pd.read_csv('radiosonde_launches.csv')\n",
    "\n",
    "# Filter data by sensor model\n",
    "vaisala = df[df['Sensor'] == 'Vaisala RS41-SG']\n",
    "azista = df[df['Sensor'] == 'Azista ATMS-3710']\n",
    "\n",
    "# Define map extent for Arabian Sea\n",
    "lon_min, lon_max = 60, 80\n",
    "lat_min, lat_max = 5, 25\n",
    "\n",
    "# Create the map\n",
    "plt.figure(figsize=(12, 9))\n",
    "ax = plt.axes(projection=ccrs.PlateCarree())\n",
    "ax.set_extent([lon_min, lon_max, lat_min, lat_max], crs=ccrs.PlateCarree())\n",
    "\n",
    "# Add geographic features\n",
    "ax.add_feature(cfeature.LAND, color='lightgray')\n",
    "ax.add_feature(cfeature.OCEAN, color='lightblue')\n",
    "ax.add_feature(cfeature.COASTLINE)\n",
    "ax.gridlines(draw_labels=True)\n",
    "\n",
    "# Plot Vaisala RS41-SG locations\n",
    "ax.scatter(vaisala['Longitude'], vaisala['Latitude'],\n",
    "           color='green', edgecolor='black', s=40,\n",
    "           label='Vaisala RS41-SG', transform=ccrs.PlateCarree())\n",
    "\n",
    "# Plot Azista ATMS-3710 locations\n",
    "ax.scatter(azista['Longitude'], azista['Latitude'],\n",
    "           color='yellow', edgecolor='black', s=40,\n",
    "           label='Azista ATMS-3710', transform=ccrs.PlateCarree())\n",
    "\n",
    "# Title and legend\n",
    "plt.title('Radiosonde Launch Locations During EKAMSAT Cruise', fontsize=14)\n",
    "plt.legend(loc='lower right')\n",
    "plt.savefig('radiosonde_combined_map.png', dpi=300)\n",
    "plt.show()\n"
   ]
  }
 ],
 "metadata": {
  "kernelspec": {
   "display_name": "geo_env",
   "language": "python",
   "name": "python3"
  },
  "language_info": {
   "name": "python",
   "version": "3.13.2"
  }
 },
 "nbformat": 4,
 "nbformat_minor": 5
}
