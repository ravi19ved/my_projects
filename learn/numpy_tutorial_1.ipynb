{
 "cells": [
  {
   "cell_type": "code",
   "execution_count": 1,
   "id": "fe8f9a8f",
   "metadata": {},
   "outputs": [],
   "source": [
    "import xarray as xr\n",
    "import numpy as np\n",
    "import pandas as pd\n",
    "import matplotlib.pyplot as plt"
   ]
  },
  {
   "cell_type": "code",
   "execution_count": 2,
   "id": "3005dca0",
   "metadata": {},
   "outputs": [
    {
     "name": "stdout",
     "output_type": "stream",
     "text": [
      "[[-0.14686093  0.15478455 -0.90948028]\n",
      " [-0.44219261  0.18832724  0.08405139]\n",
      " [-0.46676455  0.76895056  0.04808092]\n",
      " [-1.50256593  0.45582633  0.39640265]\n",
      " [-0.90562661  0.52411318  2.98615066]]\n",
      "(5, 3)\n",
      "[-3.46401062  2.09200187  2.60520534]\n",
      "[-0.90155666 -0.16981398  0.35026694 -0.65033695  2.60463723]\n",
      "15\n"
     ]
    }
   ],
   "source": [
    "\n",
    "array = np.random.randn(5,3)\n",
    "print(array)\n",
    "print(array.shape)\n",
    "print(array.sum(axis=0))  # Sum along the first axis (columns)\n",
    "print(array.sum(axis=1))  # Sum along the second axis (rows)\n",
    "print(array.size)\n",
    "\n",
    "\n",
    "\n",
    "\n",
    "# print(\"2D Array filled with random values : \\n\", array);\n",
    "\n",
    "# print(array.mean(axis=0))  # Mean along the first axis (columns)\n",
    "# print(array.mean(axis=1))  # Mean along the second axis (rows)\n",
    "# print(array.mean())        # Mean of the entire array"
   ]
  }
 ],
 "metadata": {
  "kernelspec": {
   "display_name": "xarray_env",
   "language": "python",
   "name": "python3"
  },
  "language_info": {
   "codemirror_mode": {
    "name": "ipython",
    "version": 3
   },
   "file_extension": ".py",
   "mimetype": "text/x-python",
   "name": "python",
   "nbconvert_exporter": "python",
   "pygments_lexer": "ipython3",
   "version": "3.13.2"
  }
 },
 "nbformat": 4,
 "nbformat_minor": 5
}
