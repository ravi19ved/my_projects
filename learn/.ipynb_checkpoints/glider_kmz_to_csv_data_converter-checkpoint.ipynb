{
 "cells": [
  {
   "cell_type": "markdown",
   "id": "7f7c00ba-7af7-41b3-bf3f-569b1b41bdce",
   "metadata": {},
   "source": [
    "## The Below Code is used to convert the Glider data from KMZ to CSV in a Lat, Lon, Date, Time format which was extracted from the SFMC software. Below are the steps that code is being used and the source file. \n",
    "\n",
    "1. Extract the data from SFMC server > Options > \"Extract Map Events to KMZ\" All the Glider Data and various events in KMZ format.\n",
    "2. After downloading the data use any internet service providers like mygeodata.cloud to convert from KMZ to CSV.  The output will give all map events in separate csv files or a merged csv file with different map events. \n",
    "3. The File is in csv with 3rd column as a hmtl blob, with GPS date and time in it in embeded format. \n",
    "4. Then use the below script to extract the data from raw csv file to [Lat/Lon/Name/Description]\n",
    "   "
   ]
  },
  {
   "cell_type": "code",
   "execution_count": 3,
   "id": "b2c1da23-2a98-4562-b48c-f4cf66b37d23",
   "metadata": {},
   "outputs": [
    {
     "name": "stdout",
     "output_type": "stream",
     "text": [
      "✅ Extraction complete! Saved as 'Extracted_GPS_Data.csv'\n",
      "            Latitude         Longitude        Date      Time\n",
      "0  -66.5331833333333  24.7824833333333  2025-02-03  14:32:01\n",
      "1  -66.5331833333333  24.7824833333333  2025-02-03  14:35:42\n",
      "2           -66.5332          24.78185  2025-02-03  14:39:58\n",
      "3           -66.5332          24.78185  2025-02-03  14:46:10\n",
      "4           -66.5332          24.78185  2025-02-03  14:48:30\n"
     ]
    }
   ],
   "source": [
    "import pandas as pd\n",
    "import re\n",
    "\n",
    "# Step 1: Read the CSV file\n",
    "file_path = 'Surfacings.csv'  # <-- make sure your file is in the same folder or update path\n",
    "df = pd.read_csv(file_path, header=None)\n",
    "\n",
    "# Step 2: Rename columns for easier reference\n",
    "df.columns = ['Longitude', 'Latitude', 'Name', 'Description']\n",
    "\n",
    "# Step 3: Drop the first row if it repeats headers inside (optional based on your file)\n",
    "df = df.drop(index=0).reset_index(drop=True)\n",
    "\n",
    "# Step 4: Define regex to extract Date and Time from Description\n",
    "date_time_pattern = re.compile(r\"Time of GPS Position:\\s*([\\d-]+)\\s*([\\d:]+)\")\n",
    "\n",
    "# Step 5: Prepare list to collect extracted information\n",
    "extracted_data = []\n",
    "\n",
    "for idx, row in df.iterrows():\n",
    "    description = row['Description']\n",
    "    match = date_time_pattern.search(description)\n",
    "    if match:\n",
    "        date, time = match.groups()\n",
    "        extracted_data.append({\n",
    "            'Latitude': row['Latitude'],\n",
    "            'Longitude': row['Longitude'],\n",
    "            'Date': date,\n",
    "            'Time': time\n",
    "        })\n",
    "\n",
    "# Step 6: Convert to DataFrame\n",
    "final_df = pd.DataFrame(extracted_data)\n",
    "\n",
    "# Step 7: Save to a new CSV\n",
    "final_df.to_csv('Extracted_GPS_Data.csv', index=False)\n",
    "\n",
    "print(\"✅ Extraction complete! Saved as 'Extracted_GPS_Data.csv'\")\n",
    "print(final_df.head())\n"
   ]
  },
  {
   "cell_type": "code",
   "execution_count": 5,
   "id": "f3759197-c66a-4917-b857-4db754cb2c2e",
   "metadata": {},
   "outputs": [
    {
     "name": "stdout",
     "output_type": "stream",
     "text": [
      "✅ Done! Extracted data saved in parsed_surfacings.csv\n"
     ]
    }
   ],
   "source": [
    "## Below code is not working as is raising minor errors.\n",
    "\n",
    "import csv\n",
    "import re\n",
    "\n",
    "# input_file1 = 'C:\\\\Users\\\\ravic\\\\Desktop\\\\Desktop\\\\Glider_Tracks\\\\1129_Mauritius\\\\DLD4345449615463055265\\\\Surfacings.csv'    # The file you uploaded\n",
    "# output_file1 = 'C:\\\\Users\\\\ravic\\\\Desktop\\\\Desktop\\\\Glider_Tracks\\\\1129_Mauritius\\\\DLD4345449615463055265\\\\parsed_surfacings.csv'  # Output file\n",
    "\n",
    "input_file = \"Surfacings.csv\"\n",
    "output_file = \"parsed_surfacings.csv\"\n",
    "\n",
    "# Regular expression to capture date and time\n",
    "gps_time_regex = re.compile(r'Time of GPS Position:\\s*(\\d{4}-\\d{2}-\\d{2}) (\\d{2}:\\d{2}:\\d{2})')\n",
    "\n",
    "# Open input and output files\n",
    "with open(input_file, 'r', encoding='utf-8') as infile, open(output_file, 'w', newline='') as outfile:\n",
    "    reader = csv.reader(infile, delimiter='\\t')\n",
    "    writer = csv.writer(outfile)\n",
    "  \n",
    "    # Write header\n",
    "    writer.writerow(['Latitude', 'Longitude', 'Date', 'Time'])\n",
    "    \n",
    "    for row in reader:\n",
    "        try:\n",
    "            lon = row[0]\n",
    "            lat = row[1]\n",
    "            info = row[3]\n",
    "            \n",
    "            # Search for the GPS time\n",
    "            match = gps_time_regex.search(info)\n",
    "            if match:\n",
    "                date = match.group(1)\n",
    "                time = match.group(2)\n",
    "                \n",
    "                # Write the extracted data\n",
    "                writer.writerow([lat, lon, date, time])\n",
    "        except IndexError:\n",
    "            # Skip incomplete rows\n",
    "            continue\n",
    "\n",
    "print(f\"✅ Done! Extracted data saved in {output_file}\")"
   ]
  },
  {
   "cell_type": "code",
   "execution_count": 21,
   "id": "84a17095-0671-48bf-905a-6b91cff7fa59",
   "metadata": {},
   "outputs": [
    {
     "name": "stdout",
     "output_type": "stream",
     "text": [
      "✅ Extraction complete! Saved to parsed_surfacings.csv\n"
     ]
    }
   ],
   "source": [
    "## Below code is not working as is raising minor errors.\n",
    "\n",
    "import csv\n",
    "import re\n",
    "\n",
    "# Input and output filenames\n",
    "input_file = \"Surfacings.csv\"\n",
    "output_file = \"parsed_surfacings.csv\"\n",
    "\n",
    "# Regular expression to capture date and time\n",
    "gps_time_regex = re.compile(r'Time of GPS Position:\\s*(\\d{4}-\\d{2}-\\d{2}) (\\d{2}:\\d{2}:\\d{2})')\n",
    "\n",
    "# Open the input file\n",
    "with open(input_file, 'r', encoding='utf-8') as infile, open(output_file, 'w', newline='') as outfile:\n",
    "    reader = csv.reader(infile, delimiter='\\t')  # Important: delimiter is tab (\\t)\n",
    "    writer = csv.writer(outfile)\n",
    "    \n",
    "    # Write the header\n",
    "    writer.writerow(['Latitude', 'Longitude', 'Date', 'Time'])\n",
    "    \n",
    "    for row in reader:\n",
    "        if len(row) < 4:\n",
    "            # If the row is incomplete, skip it\n",
    "            continue\n",
    "        \n",
    "        lon = row[0]\n",
    "        lat = row[1]\n",
    "        html_text = row[3]\n",
    "        \n",
    "        # Search for the date and time\n",
    "        match = gps_time_regex.search(html_text)\n",
    "        if match:\n",
    "            date = match.group(1)\n",
    "            time = match.group(2)\n",
    "            \n",
    "            # Write extracted information\n",
    "            writer.writerow([lat, lon, date, time])\n",
    "\n",
    "\n",
    "print(f\"✅ Extraction complete! Saved to {output_file}\")\n"
   ]
  },
  {
   "cell_type": "code",
   "execution_count": 22,
   "id": "065f336d-1a71-4b98-8ec3-185b3453113a",
   "metadata": {},
   "outputs": [
    {
     "name": "stdout",
     "output_type": "stream",
     "text": [
      "✅ Done! Output saved to parsed_surfacings.csv\n"
     ]
    }
   ],
   "source": [
    "## Below code is not working as is raising minor errors.\n",
    "\n",
    "import re\n",
    "\n",
    "# Input and Output filenames\n",
    "input_file = \"Surfacings.csv\"\n",
    "output_file = \"parsed_surfacings.csv\"\n",
    "\n",
    "# Regular expression to find \"Time of GPS Position\" inside the text\n",
    "gps_time_regex = re.compile(r'Time of GPS Position:\\s*([\\d-]+)\\s*([\\d:]+)')\n",
    "\n",
    "# Open the files\n",
    "with open(input_file, 'r', encoding='utf-8') as infile, open(output_file, 'w', newline='') as outfile:\n",
    "    # Write header first\n",
    "    outfile.write('Latitude,Longitude,Date,Time\\n')\n",
    "    \n",
    "    for line in infile:\n",
    "        parts = line.strip().split('\\t')\n",
    "        \n",
    "        if len(parts) < 4:\n",
    "            # If line does not have enough parts, skip\n",
    "            continue\n",
    "        \n",
    "        longitude = parts[0]\n",
    "        latitude = parts[1]\n",
    "        html_text = parts[3]  # The messy text containing date/time\n",
    "        \n",
    "        # Now find date and time from the HTML text\n",
    "        match = gps_time_regex.search(html_text)\n",
    "        \n",
    "        if match:\n",
    "            date = match.group(1)\n",
    "            time = match.group(2)\n",
    "            \n",
    "            # Write output line\n",
    "            outfile.write(f\"{latitude},{longitude},{date},{time}\\n\")\n",
    "\n",
    "print(f\"✅ Done! Output saved to {output_file}\")\n"
   ]
  },
  {
   "cell_type": "code",
   "execution_count": 11,
   "id": "1c1a153c-5377-4600-a6a3-4e0e855a1ee6",
   "metadata": {},
   "outputs": [
    {
     "name": "stdout",
     "output_type": "stream",
     "text": [
      "✅ Done! Output saved to parsed_surfacings.csv\n"
     ]
    }
   ],
   "source": [
    "## Below code is not working as is raising minor errors. \n",
    "\n",
    "import re\n",
    "\n",
    "# Input and Output filenames\n",
    "input_file = 'Surfacings.csv'\n",
    "output_file = 'parsed_surfacings.csv'\n",
    "\n",
    "# Regular expression to find \"Time of GPS Position\" inside the text\n",
    "gps_time_regex = re.compile(r'Time of GPS Position:\\s*([\\d-]+)\\s*([\\d:]+)')\n",
    "\n",
    "# Open the files\n",
    "with open(input_file, 'r', encoding='utf-8') as infile, open(output_file, 'w', newline='') as outfile:\n",
    "    # Write header first\n",
    "    outfile.write('Latitude,Longitude,Date,Time\\n')\n",
    "    \n",
    "    for line in infile:\n",
    "        parts = line.strip().split('\\t')\n",
    "        \n",
    "        if len(parts) < 4:\n",
    "            # If line does not have enough parts, skip\n",
    "            continue\n",
    "        \n",
    "        longitude = parts[0]\n",
    "        latitude = parts[1]\n",
    "        html_text = parts[3]  # The messy text containing date/time\n",
    "        \n",
    "        # Now find date and time from the HTML text\n",
    "        match = gps_time_regex.search(html_text)\n",
    "        \n",
    "        if match:\n",
    "            date = match.group(1)\n",
    "            time = match.group(2)\n",
    "            \n",
    "            # Write output line\n",
    "            outfile.write(f\"{latitude},{longitude},{date},{time}\\n\")\n",
    "\n",
    "print(f\"✅ Done! Output saved to {output_file}\")\n"
   ]
  },
  {
   "cell_type": "code",
   "execution_count": null,
   "id": "abd10f41-9594-45ed-8ef9-ff6cb2dc10ae",
   "metadata": {},
   "outputs": [],
   "source": []
  }
 ],
 "metadata": {
  "kernelspec": {
   "display_name": "Python 3 (ipykernel)",
   "language": "python",
   "name": "python3"
  },
  "language_info": {
   "codemirror_mode": {
    "name": "ipython",
    "version": 3
   },
   "file_extension": ".py",
   "mimetype": "text/x-python",
   "name": "python",
   "nbconvert_exporter": "python",
   "pygments_lexer": "ipython3",
   "version": "3.12.7"
  }
 },
 "nbformat": 4,
 "nbformat_minor": 5
}
