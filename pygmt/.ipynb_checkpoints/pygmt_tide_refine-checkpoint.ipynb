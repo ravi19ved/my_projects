{
 "cells": [
  {
   "cell_type": "code",
   "execution_count": null,
   "id": "cab645e2",
   "metadata": {},
   "outputs": [],
   "source": [
    "import pygmt\n",
    "import pandas as pd\n",
    "import numpy as np\n",
    "import matplotlib.pyplot as plt"
   ]
  },
  {
   "cell_type": "code",
   "execution_count": null,
   "id": "e3d6bb00",
   "metadata": {},
   "outputs": [],
   "source": [
    "##=================Tide Gauge and Tsunami Buoys List========================##\n",
    "\n",
    "\n",
    "tb_lat = [6.25,20.8,3.81,13.5,10.25,17.5,20.18]\n",
    "tb_lon = [88.88,65.33,91.7,89,88.51,89.8,67.65]\n",
    "tb_station = ['STB01','STB02','STB03','STB05','ITB05','ITB09','ITB12']\n",
    "\n",
    "off_set = 0.8\n",
    "\n",
    "tb_txt_shft_x = list(map(lambda tb_lat: tb_lat + off_set, tb_lat))\n",
    "tb_txt_shft_y = list(map(lambda tb_lon: tb_lon + off_set, tb_lon))\n",
    "\n",
    "tide_lat = [13.283,7,13.1,9.967,13.25,22.55,18.917,16.933,23.017,14.8,10.567,14.25,8.283,10.767,8.05,12.917,22.467,20.267,11.683,8.75,17.683,21.1,11.171,9.234,10.591,17.281,16.145,15.409,12.488,20.912,21.629,11.93,8.864,21.621,23.243,20.7851]\n",
    "tide_lon = [93.033,93.933,80.3,76.267,80.333,88.3,72.75,82.25,70.217,74.117,72.633,80.133,73.05,79.85,93.55,74.8,69.083,86.7,92.767,78.2,83.283,72.616,75.808,92.776,92.562,73.208,81.178,73.8,92.956,70.408,87.548,79.835,76.603,69.522,68.606,86.9556]\n",
    "tide_stations = [\"Aerial Bay\",\"Campbell Bay\",\"Chennai\",\"Cochin\",\"Ennore\",\"Garden Reach\",\"JNPT\",\"Kakinada\",\"Kandla\",\"Karwar\",\"Kavaratti\",\"Krishnapatnam\",\"Minicoy\",\"Nagapattinam\",\"Nancowry\",\"New Mangalore\",\"Okha\",\"Paradip\",\"Port Blair\",\"Tuticorin\",\"Visakhapatnam\",\"Adani Hazira\",\"Beypore\",\"Car Nicobar\",\"Hutbay\",\"Jaigarh\",\"Machilipatnam\",\"Marmagao\",\"Rangatbay\",\"Veraval\",\"Digha\",\"Puducherry\",\"Kollam\",\"Porbandar\",\"Jakhau\",\"Dhamra\"]\n",
    "\n",
    "tide_txt_shft_x = list(map(lambda tide_lat: tide_lat + off_set, tide_lat))\n",
    "tide_txt_shft_y = list(map(lambda tide_lon: tide_lon+ off_set, tide_lon))\n",
    "\n"
   ]
  },
  {
   "cell_type": "code",
   "execution_count": null,
   "id": "8adcff86",
   "metadata": {},
   "outputs": [],
   "source": [
    "fig = pygmt.Figure()\n",
    "\n",
    "\n",
    "fig.coast(shorelines=\"1/0.5p\", region = [62, 96, 0, 25], projection=\"M19c\",land = \"lightgreen\", water = \"lightblue\",)\n",
    "fig.basemap(frame=[\"a10f2.5g5\",\"+tNorth Indian Ocean Region\"])\n",
    "\n",
    "fig.plot(x=tb_lon, y=tb_lat, style=\"t0.3c\", pen=\"2p,darkblue\", no_clip=True)\n",
    "fig.text(x=tb_txt_shft_y, y=tb_txt_shft_x, text=tb_station , **minorexplain)\n",
    "\n",
    "fig.plot(x=tide_lon, y=tide_lat, style=\"c0.3c\", pen=\"2p,red\", no_clip=True)\n",
    "fig.text(x=tide_txt_shft_y, y=tide_txt_shft_x, text=tide_stations , **minorexplain)\n",
    "\n",
    "\n",
    "fig.show()"
   ]
  }
 ],
 "metadata": {
  "kernelspec": {
   "display_name": "mapwork",
   "language": "python",
   "name": "python3"
  },
  "language_info": {
   "codemirror_mode": {
    "name": "ipython",
    "version": 3
   },
   "file_extension": ".py",
   "mimetype": "text/x-python",
   "name": "python",
   "nbconvert_exporter": "python",
   "pygments_lexer": "ipython3",
   "version": "3.13.1"
  }
 },
 "nbformat": 4,
 "nbformat_minor": 5
}
