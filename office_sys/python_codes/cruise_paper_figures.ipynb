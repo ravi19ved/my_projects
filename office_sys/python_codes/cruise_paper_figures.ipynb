{
 "cells": [
  {
   "cell_type": "code",
   "execution_count": 3,
   "id": "b5ddbe78-4dd6-4931-95ed-366b40aec57b",
   "metadata": {},
   "outputs": [],
   "source": [
    "import pygmt\n",
    "import numpy as np\n",
    "import pandas as pd\n",
    "import datetime\n",
    "import xarray as xr\n",
    "\n",
    "\n",
    "#pygmt.show_versions()"
   ]
  },
  {
   "cell_type": "code",
   "execution_count": 4,
   "id": "23401d82-c753-4767-aebc-90bf17f67dd5",
   "metadata": {},
   "outputs": [],
   "source": [
    "# Region\n",
    "\n",
    "minlon, maxlon = 60,95\n",
    "minlat, maxlat = 0, 25"
   ]
  },
  {
   "cell_type": "code",
   "execution_count": null,
   "id": "63482789-89a9-4608-9535-61f03d89462a",
   "metadata": {},
   "outputs": [],
   "source": []
  }
 ],
 "metadata": {
  "kernelspec": {
   "display_name": "pygmt",
   "language": "python",
   "name": "pygmt"
  },
  "language_info": {
   "codemirror_mode": {
    "name": "ipython",
    "version": 3
   },
   "file_extension": ".py",
   "mimetype": "text/x-python",
   "name": "python",
   "nbconvert_exporter": "python",
   "pygments_lexer": "ipython3",
   "version": "3.12.2"
  }
 },
 "nbformat": 4,
 "nbformat_minor": 5
}
