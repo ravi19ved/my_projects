{
 "cells": [
  {
   "cell_type": "code",
   "execution_count": 1,
   "id": "ae1f2013-286d-402f-b47e-310dae9b2b55",
   "metadata": {},
   "outputs": [],
   "source": [
    "import pygmt\n",
    "import numpy as np\n",
    "import pandas as pd\n",
    "\n",
    "#pygmt.show_versions()"
   ]
  },
  {
   "cell_type": "code",
   "execution_count": 3,
   "id": "3195687c-aec0-499a-8bd4-cc5efcc17396",
   "metadata": {},
   "outputs": [
    {
     "name": "stdout",
     "output_type": "stream",
     "text": [
      "(5,)\n",
      "(2, 3)\n",
      "(2, 3, 3)\n"
     ]
    }
   ],
   "source": [
    "# Creating a 1D array\n",
    "arr1d = np.array([1,2,3,4,5])\n",
    "\n",
    "# Creating a 2D array\n",
    "arr2d = np.array([[1,2,3],[4,5,6]])\n",
    "\n",
    "# Creating a 3D array\n",
    "arr3d = np.array([[[1,2,1],[3,4,1],[5,6,1]],[[5,6,1],[7,8,1],[9,8,1]]])\n",
    "\n",
    "print(arr1d.shape)\n",
    "print(arr2d.shape)\n",
    "print(arr3d.shape)"
   ]
  },
  {
   "cell_type": "code",
   "execution_count": 13,
   "id": "7a404116-1132-421a-a98d-8c8b4f41d4cf",
   "metadata": {},
   "outputs": [
    {
     "name": "stdout",
     "output_type": "stream",
     "text": [
      "1D Array\n",
      "[1 2 3 4 5]\n",
      "2D Array\n",
      "[[1 2 3]\n",
      " [4 5 6]]\n",
      "3D Array\n",
      "[[[1 2 1]\n",
      "  [3 4 1]\n",
      "  [5 6 1]]\n",
      "\n",
      " [[5 6 1]\n",
      "  [7 8 1]\n",
      "  [9 8 1]]]\n"
     ]
    }
   ],
   "source": [
    "print('1D Array')\n",
    "print(arr1d)\n",
    "print('2D Array')\n",
    "print(arr2d)\n",
    "print('3D Array')\n",
    "print(arr3d)"
   ]
  },
  {
   "cell_type": "code",
   "execution_count": 15,
   "id": "5c5382eb-7349-49fb-b148-8e53358d9b79",
   "metadata": {},
   "outputs": [
    {
     "name": "stdout",
     "output_type": "stream",
     "text": [
      "(2, 3, 3)\n"
     ]
    }
   ],
   "source": [
    "print(arr3d.shape)"
   ]
  },
  {
   "cell_type": "code",
   "execution_count": 16,
   "id": "0656f42f-b631-4e01-8a6c-aca9158c8c65",
   "metadata": {},
   "outputs": [
    {
     "data": {
      "text/plain": [
       "array([[1, 2, 3],\n",
       "       [4, 5, 6]])"
      ]
     },
     "execution_count": 16,
     "metadata": {},
     "output_type": "execute_result"
    }
   ],
   "source": [
    "arr2d"
   ]
  },
  {
   "cell_type": "code",
   "execution_count": 20,
   "id": "d60c7ff4-e661-43ff-9196-7867cad7945b",
   "metadata": {},
   "outputs": [
    {
     "data": {
      "text/plain": [
       "array([[[ 2,  4,  2],\n",
       "        [ 6,  8,  2],\n",
       "        [10, 12,  2]],\n",
       "\n",
       "       [[10, 12,  2],\n",
       "        [14, 16,  2],\n",
       "        [18, 16,  2]]])"
      ]
     },
     "execution_count": 20,
     "metadata": {},
     "output_type": "execute_result"
    }
   ],
   "source": [
    "result = arr3d * 2\n",
    "result"
   ]
  },
  {
   "cell_type": "code",
   "execution_count": null,
   "id": "bc341974-ac33-40ed-9607-4fbd373b715f",
   "metadata": {},
   "outputs": [],
   "source": [
    "def get_one_month_hourdata(adata, month):\n",
    "    '''\n",
    "    adata is [month, day, hour, value]\n",
    "    return decimal days and tide values\n",
    "    '''\n",
    "    subset_index = np.where(adata[:,0]==int(month))[0]\n",
    "    "
   ]
  },
  {
   "cell_type": "code",
   "execution_count": null,
   "id": "fbaeaef8-63f0-42c7-810f-da38f07419c8",
   "metadata": {},
   "outputs": [],
   "source": [
    "subset_index = np.where(adata[:,0]==int(month))[0]"
   ]
  },
  {
   "cell_type": "code",
   "execution_count": 23,
   "id": "3cefa464-c964-4267-81ce-6e11577eafb1",
   "metadata": {},
   "outputs": [
    {
     "data": {
      "text/plain": [
       "array([0, 1, 2, 3, 4, 5, 6, 7, 8, 9])"
      ]
     },
     "execution_count": 23,
     "metadata": {},
     "output_type": "execute_result"
    }
   ],
   "source": [
    "a = np.arange(10)\n",
    "a"
   ]
  },
  {
   "cell_type": "code",
   "execution_count": 24,
   "id": "3f8fbdeb-bda1-4663-ba5a-963b6fb70562",
   "metadata": {},
   "outputs": [
    {
     "data": {
      "text/plain": [
       "array([ 0,  1,  2,  3,  4, 50, 60, 70, 80, 90])"
      ]
     },
     "execution_count": 24,
     "metadata": {},
     "output_type": "execute_result"
    }
   ],
   "source": [
    "np.where(a<5, a, 10*a)"
   ]
  },
  {
   "cell_type": "code",
   "execution_count": null,
   "id": "a25c99f1-723f-4abf-b2b0-876ee9fcb6f4",
   "metadata": {},
   "outputs": [],
   "source": []
  },
  {
   "cell_type": "code",
   "execution_count": null,
   "id": "6b940027-ddc2-44aa-878e-27e8904ab691",
   "metadata": {},
   "outputs": [],
   "source": []
  }
 ],
 "metadata": {
  "kernelspec": {
   "display_name": "pygmt",
   "language": "python",
   "name": "pygmt"
  },
  "language_info": {
   "codemirror_mode": {
    "name": "ipython",
    "version": 3
   },
   "file_extension": ".py",
   "mimetype": "text/x-python",
   "name": "python",
   "nbconvert_exporter": "python",
   "pygments_lexer": "ipython3",
   "version": "3.12.2"
  }
 },
 "nbformat": 4,
 "nbformat_minor": 5
}
