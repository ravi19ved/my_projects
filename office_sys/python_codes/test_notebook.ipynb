{
 "cells": [
  {
   "cell_type": "code",
   "execution_count": 1,
   "id": "a0cc1e49-5397-41cb-a4a0-722174d388d4",
   "metadata": {},
   "outputs": [
    {
     "name": "stdout",
     "output_type": "stream",
     "text": [
      "PyGMT information:\n",
      "  version: v0.13.0\n",
      "System information:\n",
      "  python: 3.13.1 | packaged by conda-forge | (main, Dec  5 2024, 21:02:16) [MSC v.1942 64 bit (AMD64)]\n",
      "  executable: C:\\Users\\incois\\anaconda3\\envs\\mapwork\\python.exe\n",
      "  machine: Windows-10-10.0.19045-SP0\n",
      "Dependency information:\n",
      "  numpy: 2.2.1\n",
      "  pandas: 2.2.3\n",
      "  xarray: 2024.11.0\n",
      "  netCDF4: 1.7.2\n",
      "  packaging: 24.2\n",
      "  contextily: None\n",
      "  geopandas: None\n",
      "  IPython: 8.31.0\n",
      "  rioxarray: None\n",
      "  gdal: 3.10.0\n",
      "  ghostscript: 10.04.0\n",
      "GMT library information:\n",
      "  version: 6.5.0\n",
      "  padding: 2\n",
      "  share dir: c:/programs/gmt6/share\n",
      "  plugin dir: C:/Users/incois/anaconda3/envs/mapwork/Library/bin/gmt_plugins\n",
      "  library path: C:/Users/incois/anaconda3/envs/mapwork/Library/bin/gmt.dll\n",
      "  cores: 12\n",
      "  grid layout: rows\n",
      "  image layout: \n",
      "  binary version: 6.5.0\n"
     ]
    }
   ],
   "source": [
    "import pygmt\n",
    "pygmt.show_versions()"
   ]
  },
  {
   "cell_type": "code",
   "execution_count": 1,
   "id": "f5f13ea2-ebce-4f6b-a448-8ae6beb5a6bf",
   "metadata": {},
   "outputs": [
    {
     "name": "stdout",
     "output_type": "stream",
     "text": [
      "hellow world\n"
     ]
    }
   ],
   "source": [
    "print(\"hellow world\")"
   ]
  },
  {
   "cell_type": "code",
   "execution_count": null,
   "id": "baa62033-087c-4d0f-933d-85ee7a2021ae",
   "metadata": {},
   "outputs": [],
   "source": []
  }
 ],
 "metadata": {
  "kernelspec": {
   "display_name": "Python 3 (ipykernel)",
   "language": "python",
   "name": "python3"
  },
  "language_info": {
   "codemirror_mode": {
    "name": "ipython",
    "version": 3
   },
   "file_extension": ".py",
   "mimetype": "text/x-python",
   "name": "python",
   "nbconvert_exporter": "python",
   "pygments_lexer": "ipython3",
   "version": "3.11.11"
  }
 },
 "nbformat": 4,
 "nbformat_minor": 5
}
