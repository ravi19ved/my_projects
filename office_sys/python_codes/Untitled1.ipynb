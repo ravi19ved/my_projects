{
 "cells": [
  {
   "cell_type": "code",
   "execution_count": 3,
   "id": "53491bd7-9e2a-44c0-83bb-a01a9e9e20cd",
   "metadata": {},
   "outputs": [
    {
     "name": "stdout",
     "output_type": "stream",
     "text": [
      "Buddy\n",
      "5\n",
      "Buddy says woof!\n",
      "Canis familiaris\n"
     ]
    }
   ],
   "source": [
    "# Define a class\n",
    "class Dog:\n",
    "    # Class attribue (shared by all isntances)\n",
    "    species = \"Canis familiaris\"\n",
    "\n",
    "    # Constructor (initializer)\n",
    "    def __init__(self, name, age):\n",
    "        # Instance attributes (unique to each instance)\n",
    "        self.name = name\n",
    "        self.age = age\n",
    "\n",
    "    # Method (function inside a class)\n",
    "    def bark(self):\n",
    "        return f\"{self.name} says woof!\"\n",
    "\n",
    "# Create an object (instance of the class)\n",
    "my_dog = Dog('Buddy', 5)\n",
    "\n",
    "# Access attributes and methods\n",
    "print(my_dog.name)\n",
    "print(my_dog.age)\n",
    "print(my_dog.bark())\n",
    "print(my_dog.species) "
   ]
  },
  {
   "cell_type": "code",
   "execution_count": 1,
   "id": "7d9a2dd8-8b82-448f-8422-6c8403f93982",
   "metadata": {},
   "outputs": [
    {
     "name": "stdout",
     "output_type": "stream",
     "text": [
      "Buddy\n",
      "5\n",
      "Buddy says woof!\n",
      "Canis familiaris\n"
     ]
    }
   ],
   "source": [
    "# Define a class\n",
    "class Dog:\n",
    "    # Class attribute (shared by all instances)\n",
    "    species = \"Canis familiaris\"\n",
    "\n",
    "    # Constructor (initializer)\n",
    "    def __init__(self, name, age):\n",
    "        # Instance attributes (unique to each instance)\n",
    "        self.name = name\n",
    "        self.age = age\n",
    "\n",
    "    # Method (function inside a class)\n",
    "    def bark(self):\n",
    "        return f\"{self.name} says woof!\"\n",
    "\n",
    "# Create an object (instance of the class)\n",
    "my_dog = Dog(\"Buddy\", 5)\n",
    "\n",
    "# Access attributes and methods\n",
    "print(my_dog.name)  # Output: Buddy\n",
    "print(my_dog.age)   # Output: 5\n",
    "print(my_dog.bark())  # Output: Buddy says woof!\n",
    "print(my_dog.species)  # Output: Canis familiaris"
   ]
  },
  {
   "cell_type": "code",
   "execution_count": 40,
   "id": "91759c09-1569-491a-a90f-5ad8d531f2b9",
   "metadata": {},
   "outputs": [
    {
     "name": "stdout",
     "output_type": "stream",
     "text": [
      "Wagan-R\n",
      "4\n",
      "True\n",
      "True\n",
      "Yes\n",
      "paid\n",
      "Wagan-R\n",
      "3\n",
      "DELHI\n",
      "10\n",
      "15\n",
      "Wagan-R car has started\n",
      "Yes\n",
      "7\n"
     ]
    }
   ],
   "source": [
    "class Car:\n",
    "    # Class attribute (shared by all instances)\n",
    "    num_wheels = 4\n",
    "    steering = True\n",
    "    right_wheel_drive = True\n",
    "    head_lights = 'Yes'\n",
    "    life_tax = 'paid'\n",
    "    other_state_validity = 15\n",
    "    delhi_validity = 10\n",
    "    \n",
    "\n",
    "    # Constructor (Initializer)\n",
    "    def __init__(self, brand, veh_age, reg_state):\n",
    "        # Instant Attributes (unique to each instance)\n",
    "        self.brand = brand\n",
    "        self.age = veh_age\n",
    "        self.registration_state = reg_state\n",
    "\n",
    "    # Method (function inside a class)\n",
    "    def start_car(self):\n",
    "        return (f\"{self.brand} car has started\")\n",
    "\n",
    "    def life_validity(self):\n",
    "        if self.registration_state == \"DELHI\":\n",
    "            print('Yes')\n",
    "            life = 10 - self.age\n",
    "        else:\n",
    "            life = 15 - self.age\n",
    "        return(life)\n",
    "\n",
    "my_car = Car(\"Wagan-R\", 3, \"DELHI\")\n",
    "my_car1 = Car(\"S-Cross\", 2, \"TS\")\n",
    "\n",
    "print(my_car.brand)\n",
    "print(my_car.num_wheels)\n",
    "print(my_car.steering)\n",
    "print(my_car.right_wheel_drive)\n",
    "print(my_car.head_lights)\n",
    "print(my_car.life_tax)\n",
    "print(my_car.brand)\n",
    "print(my_car.age)\n",
    "print(my_car.registration_state)\n",
    "print(my_car.delhi_validity)\n",
    "print(my_car.other_state_validity)\n",
    "print(my_car.start_car())\n",
    "print(my_car.life_validity())"
   ]
  },
  {
   "cell_type": "code",
   "execution_count": 41,
   "id": "a9b08866-e8b8-4c63-a30c-fc48dd25c4b8",
   "metadata": {},
   "outputs": [
    {
     "name": "stdout",
     "output_type": "stream",
     "text": [
      "Whiskers says meow!\n"
     ]
    }
   ],
   "source": [
    "# Parent class\n",
    "class Animal:\n",
    "    def __init__(self, name):\n",
    "        self.name = name\n",
    "\n",
    "    def speak(self):\n",
    "        return f\"{self.name} makes a sound.\"\n",
    "\n",
    "# Child class inheriting from Animal\n",
    "class Cat(Animal):\n",
    "    def speak(self):\n",
    "        return f\"{self.name} says meow!\"\n",
    "\n",
    "# Create an object of the child class\n",
    "my_cat = Cat(\"Whiskers\")\n",
    "print(my_cat.speak())  # Output: Whiskers says meow!"
   ]
  },
  {
   "cell_type": "code",
   "execution_count": 44,
   "id": "de21b061-2958-4ef6-a65e-11ed8873a720",
   "metadata": {},
   "outputs": [
    {
     "name": "stdout",
     "output_type": "stream",
     "text": [
      "Whiskers makes a sound.\n"
     ]
    }
   ],
   "source": [
    "# Parent class definition\n",
    "class Animal:\n",
    "    def __init__(self, name):\n",
    "        self.name = name\n",
    "\n",
    "    def speak(self):\n",
    "        return f\"{self.name} makes a sound.\"\n",
    "\n",
    "# Child class inherting from Animal\n",
    "class Cat(Animal):\n",
    "    pass\n",
    "\n",
    "my_cat = Cat(\"Whiskers\")\n",
    "print(my_cat.speak())\n",
    "    "
   ]
  },
  {
   "cell_type": "code",
   "execution_count": null,
   "id": "11088b65-6ad7-43e0-86be-2d1f29c76bc4",
   "metadata": {},
   "outputs": [],
   "source": []
  }
 ],
 "metadata": {
  "kernelspec": {
   "display_name": "Python 3 (ipykernel)",
   "language": "python",
   "name": "python3"
  },
  "language_info": {
   "codemirror_mode": {
    "name": "ipython",
    "version": 3
   },
   "file_extension": ".py",
   "mimetype": "text/x-python",
   "name": "python",
   "nbconvert_exporter": "python",
   "pygments_lexer": "ipython3",
   "version": "3.11.11"
  }
 },
 "nbformat": 4,
 "nbformat_minor": 5
}
