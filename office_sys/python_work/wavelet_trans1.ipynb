{
 "cells": [
  {
   "cell_type": "code",
   "execution_count": 12,
   "id": "6e7b8424",
   "metadata": {},
   "outputs": [
    {
     "data": {
      "text/plain": [
       "\"\\n\\n# Convert the date and time columns to a single datetime column\\ndf['datetime'] = pd.to_datetime(df['date'] + ' ' + df['time'])\\n\\n\\n# Set the datetime column as the index\\ndf.set_index('datetime', inplace=True)\\n\\n# Extract the water level height column as a NumPy array\\ndata = df['water_level'].values\\n\\n# Perform wavelet transform\\ncoeffs = pywt.swt(data, 'db4', level=5)\\n\\n# Extract approximation coefficients and detail coefficients\\napproximation, details = zip(*coeffs)\\n\\n# Perform wavelet analysis\\nwavelet_analysis = pywt.WaveletAnalysis(data, 'db4')\\n\\n# Plot wavelet power spectrum\\nwavelet_analysis.plot_power()\\n\\n# Show the plots\\npywt.plt.show()\\n\\n\""
      ]
     },
     "execution_count": 12,
     "metadata": {},
     "output_type": "execute_result"
    }
   ],
   "source": [
    "import numpy as np\n",
    "import pandas as pd\n",
    "import pywt\n",
    "\n",
    "# Load your dataset into a Pandas DataFrame\n",
    "df = pd.read_csv('Cochin_ENC_2016_hourly.csv')\n",
    "\n",
    "df.describe()\n",
    "\n",
    "'''\n",
    "\n",
    "# Convert the date and time columns to a single datetime column\n",
    "df['datetime'] = pd.to_datetime(df['date'] + ' ' + df['time'])\n",
    "\n",
    "\n",
    "# Set the datetime column as the index\n",
    "df.set_index('datetime', inplace=True)\n",
    "\n",
    "# Extract the water level height column as a NumPy array\n",
    "data = df['water_level'].values\n",
    "\n",
    "# Perform wavelet transform\n",
    "coeffs = pywt.swt(data, 'db4', level=5)\n",
    "\n",
    "# Extract approximation coefficients and detail coefficients\n",
    "approximation, details = zip(*coeffs)\n",
    "\n",
    "# Perform wavelet analysis\n",
    "wavelet_analysis = pywt.WaveletAnalysis(data, 'db4')\n",
    "\n",
    "# Plot wavelet power spectrum\n",
    "wavelet_analysis.plot_power()\n",
    "\n",
    "# Show the plots\n",
    "pywt.plt.show()\n",
    "\n",
    "'''"
   ]
  },
  {
   "cell_type": "code",
   "execution_count": 15,
   "id": "7efcd24c",
   "metadata": {},
   "outputs": [
    {
     "name": "stdout",
     "output_type": "stream",
     "text": [
      "[['04-01-2016' '00:00' '0.944']\n",
      " ['04-01-2016' '01:00' '0.942']\n",
      " ['04-01-2016' '02:00' '0.903']\n",
      " ...\n",
      " ['10-31-2016' '21:00' '0.888']\n",
      " ['10-31-2016' '22:00' '0.908']\n",
      " ['10-31-2016' '23:00' '0.903']]\n"
     ]
    },
    {
     "data": {
      "text/plain": [
       "\"\\n# Extract time and tide values\\ntime = data[:, 0]\\ntide = data[:, 1]\\n\\n# Define the wavelet function and scales\\nwavelet = 'morl'  # Choose the wavelet function (e.g., Morlet)\\nscales = np.arange(1, 101)  # Define the scales for the analysis\\n\\n# Perform continuous wavelet transform\\ncoeffs, freqs = pywt.cwt(tide, scales, wavelet, dt=1)  # dt is the time step\\n\\n# Plot the continuous wavelet transform\\nplt.figure(figsize=(10, 6))\\nplt.imshow(np.abs(coeffs), extent=[time[0], time[-1], freqs[-1], freqs[0]], cmap='jet', aspect='auto')\\nplt.colorbar(label='Wavelet Coefficient')\\nplt.title('Continuous Wavelet Transform of Tide Data')\\nplt.xlabel('Time')\\nplt.ylabel('Scale')\\nplt.gca().invert_yaxis()\\nplt.show()\\n\""
      ]
     },
     "execution_count": 15,
     "metadata": {},
     "output_type": "execute_result"
    }
   ],
   "source": [
    "import numpy as np\n",
    "import matplotlib.pyplot as plt\n",
    "import pywt\n",
    "\n",
    "# Load tide gauge data\n",
    "data = np.loadtxt('tide_data.txt', dtype = 'str')  # Replace 'tide_data.txt' with your actual data file\n",
    "\n",
    "print(data)\n",
    "\"\"\"\n",
    "# Extract time and tide values\n",
    "time = data[:, 0]\n",
    "tide = data[:, 1]\n",
    "\n",
    "# Define the wavelet function and scales\n",
    "wavelet = 'morl'  # Choose the wavelet function (e.g., Morlet)\n",
    "scales = np.arange(1, 101)  # Define the scales for the analysis\n",
    "\n",
    "# Perform continuous wavelet transform\n",
    "coeffs, freqs = pywt.cwt(tide, scales, wavelet, dt=1)  # dt is the time step\n",
    "\n",
    "# Plot the continuous wavelet transform\n",
    "plt.figure(figsize=(10, 6))\n",
    "plt.imshow(np.abs(coeffs), extent=[time[0], time[-1], freqs[-1], freqs[0]], cmap='jet', aspect='auto')\n",
    "plt.colorbar(label='Wavelet Coefficient')\n",
    "plt.title('Continuous Wavelet Transform of Tide Data')\n",
    "plt.xlabel('Time')\n",
    "plt.ylabel('Scale')\n",
    "plt.gca().invert_yaxis()\n",
    "plt.show()\n",
    "\"\"\""
   ]
  },
  {
   "cell_type": "code",
   "execution_count": null,
   "id": "dd19d9c4",
   "metadata": {},
   "outputs": [],
   "source": []
  }
 ],
 "metadata": {
  "kernelspec": {
   "display_name": "Python 3 (ipykernel)",
   "language": "python",
   "name": "python3"
  },
  "language_info": {
   "codemirror_mode": {
    "name": "ipython",
    "version": 3
   },
   "file_extension": ".py",
   "mimetype": "text/x-python",
   "name": "python",
   "nbconvert_exporter": "python",
   "pygments_lexer": "ipython3",
   "version": "3.9.12"
  }
 },
 "nbformat": 4,
 "nbformat_minor": 5
}
